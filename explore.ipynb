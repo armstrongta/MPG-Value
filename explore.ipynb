{
 "cells": [
  {
   "cell_type": "code",
   "execution_count": 5,
   "metadata": {},
   "outputs": [
    {
     "name": "stdout",
     "output_type": "stream",
     "text": [
      "Car 1 gas money in 5 years: $12500.0\n",
      "Car 2 gas money in 5 years: $10937.5\n",
      "\n",
      "You will save $1562.5 by choosing Car 2!\n"
     ]
    }
   ],
   "source": [
    "year_miles = 20000\n",
    "years = 5\n",
    "mpg1 = 28\n",
    "mpg2 = 32\n",
    "cost_per_gal = 3.5\n",
    "\n",
    "def calc_cost(year_miles, years, mpg1, mpg2, cost_per_gal):\n",
    "    total_miles = years * year_miles\n",
    "    gallons1 = total_miles / mpg1\n",
    "    cost1 = gallons1 * cost_per_gal\n",
    "\n",
    "    gallons2 = total_miles / mpg2\n",
    "    cost2 = gallons2 * cost_per_gal\n",
    "\n",
    "    print(f\"Car 1 gas money in {years} years: ${cost1}\")\n",
    "    print(f\"Car 2 gas money in {years} years: ${cost2}\")\n",
    "\n",
    "    better_car = (lambda cost1, cost2: \"Car 1\" if cost1 < cost2 else \"Car 2\")(cost1, cost2)\n",
    "    print(f\"\\nYou will save ${abs(cost2-cost1)} by choosing {better_car}!\")\n",
    "\n",
    "calc_cost(year_miles, years, mpg1, mpg2, cost_per_gal)"
   ]
  },
  {
   "cell_type": "code",
   "execution_count": null,
   "metadata": {},
   "outputs": [],
   "source": []
  }
 ],
 "metadata": {
  "kernelspec": {
   "display_name": "Python 3",
   "language": "python",
   "name": "python3"
  },
  "language_info": {
   "codemirror_mode": {
    "name": "ipython",
    "version": 3
   },
   "file_extension": ".py",
   "mimetype": "text/x-python",
   "name": "python",
   "nbconvert_exporter": "python",
   "pygments_lexer": "ipython3",
   "version": "3.11.9"
  }
 },
 "nbformat": 4,
 "nbformat_minor": 2
}
